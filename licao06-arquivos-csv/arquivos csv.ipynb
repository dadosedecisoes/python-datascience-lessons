{
 "cells": [
  {
   "cell_type": "code",
   "execution_count": 9,
   "metadata": {},
   "outputs": [
    {
     "name": "stdout",
     "output_type": "stream",
     "text": [
      "Nomes das colunas: Year, Make, Model, Length\n",
      "1997, Ford, E350, 2.34\n",
      "2000, Mercury, Cougar, 2.38\n"
     ]
    }
   ],
   "source": [
    "import csv\n",
    "with open('dados.csv') as csv_file:\n",
    "    csv_reader = csv.reader(csv_file)\n",
    "    cabecalho = True\n",
    "    for row in csv_reader:\n",
    "        if cabecalho:\n",
    "            print(f'Nomes das colunas: {\", \".join(row)}')\n",
    "            cabecalho = False\n",
    "        else:\n",
    "            print(f'{\", \".join(row)}')\n"
   ]
  },
  {
   "cell_type": "code",
   "execution_count": 13,
   "metadata": {},
   "outputs": [
    {
     "name": "stdout",
     "output_type": "stream",
     "text": [
      "Nome das colunas: Year, Make, Model, Length\n",
      "1997 - Ford E350\n",
      "2000 - Mercury Cougar\n"
     ]
    }
   ],
   "source": [
    "with open('dados.csv', 'r') as csv_arq:\n",
    "    csv_dict = csv.DictReader(csv_arq)\n",
    "    cabecalho = True\n",
    "    for row in csv_dict:\n",
    "        if cabecalho:\n",
    "            print(f'Nome das colunas: {\", \".join(row)}')\n",
    "            cabecalho = False\n",
    "        print(f'{row[\"Year\"]} - {row[\"Make\"]} {row[\"Model\"]}')"
   ]
  },
  {
   "cell_type": "code",
   "execution_count": 18,
   "metadata": {},
   "outputs": [],
   "source": [
    "with open('dados_escrita.csv', 'w', newline='') as csvfile:\n",
    "    spamwriter = csv.writer(csvfile, delimiter=';')\n",
    "    spamwriter.writerow(['Spam'] * 5 + ['Baked Beans'])\n",
    "    spamwriter.writerow(['Spam', 'Lovely Spam', 'Wonderful Spam'])"
   ]
  },
  {
   "cell_type": "code",
   "execution_count": 26,
   "metadata": {},
   "outputs": [],
   "source": [
    "with open('dados_escrita2.csv', mode='w', encoding='utf-8', newline='') as csv_file:\n",
    "    fieldnames = ['nome', 'depto', 'mes_aniv']\n",
    "    writer = csv.DictWriter(csv_file, fieldnames=fieldnames)\n",
    "\n",
    "    writer.writeheader()\n",
    "    writer.writerow({'nome': 'João Silva', 'depto': 'Contabilidade', 'mes_aniv': 'novembro'})\n",
    "    writer.writerow({'nome': 'Catarina Andrade', 'depto': 'Informática', 'mes_aniv': 'março'})"
   ]
  },
  {
   "cell_type": "code",
   "execution_count": null,
   "metadata": {},
   "outputs": [],
   "source": []
  }
 ],
 "metadata": {
  "kernelspec": {
   "display_name": "Python 3",
   "language": "python",
   "name": "python3"
  },
  "language_info": {
   "codemirror_mode": {
    "name": "ipython",
    "version": 3
   },
   "file_extension": ".py",
   "mimetype": "text/x-python",
   "name": "python",
   "nbconvert_exporter": "python",
   "pygments_lexer": "ipython3",
   "version": "3.7.0"
  }
 },
 "nbformat": 4,
 "nbformat_minor": 2
}
